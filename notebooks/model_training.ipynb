{
 "cells": [
  {
   "cell_type": "code",
   "execution_count": 4,
   "metadata": {},
   "outputs": [],
   "source": [
    "from sklearn.preprocessing import LabelEncoder\n",
    "from sklearn.model_selection import train_test_split\n",
    "from sklearn.preprocessing import StandardScaler\n",
    "from sklearn.pipeline import Pipeline\n",
    "from sklearn.tree import DecisionTreeRegressor\n",
    "from sklearn.ensemble import RandomForestRegressor\n",
    "from sklearn.linear_model import LinearRegression\n",
    "from xgboost import XGBRegressor\n",
    "from sklearn.neighbors import KNeighborsRegressor\n",
    "from sklearn.model_selection import cross_val_score\n",
    "from sklearn import metrics\n",
    "import numpy as np \n",
    "import pandas as pd"
   ]
  },
  {
   "cell_type": "code",
   "execution_count": 5,
   "metadata": {},
   "outputs": [],
   "source": [
    "data = pd.read_csv(\"../input/diamonds/diamonds.csv\")"
   ]
  },
  {
   "cell_type": "code",
   "execution_count": 6,
   "metadata": {},
   "outputs": [],
   "source": [
    "def data_prep(data: pd.DataFrame) -> pd.DataFrame:\n",
    "    data = data.drop([\"Unnamed: 0\"], axis = 1)\n",
    "    data = data.drop(data[data[\"x\"] == 0].index)\n",
    "    data = data.drop(data[data[\"y\"] == 0].index)\n",
    "    data = data.drop(data[data[\"z\"] == 0].index)\n",
    "    data = data[(data[\"depth\"] < 75) & (data[\"depth\"] > 45)]\n",
    "    data = data[(data[\"table\"]< 80) & (data[\"table\"] > 40)]\n",
    "    data = data[(data[\"x\"] < 30)]\n",
    "    data = data[(data[\"y\"] < 30)]\n",
    "    data = data[(data[\"z\"] < 30) & (data[\"z\"] > 2)]\n",
    "\n",
    "    return data"
   ]
  },
  {
   "cell_type": "code",
   "execution_count": 7,
   "metadata": {},
   "outputs": [],
   "source": [
    "data = data_prep(data)"
   ]
  },
  {
   "cell_type": "code",
   "execution_count": 8,
   "metadata": {},
   "outputs": [
    {
     "data": {
      "text/html": [
       "<div>\n",
       "<style scoped>\n",
       "    .dataframe tbody tr th:only-of-type {\n",
       "        vertical-align: middle;\n",
       "    }\n",
       "\n",
       "    .dataframe tbody tr th {\n",
       "        vertical-align: top;\n",
       "    }\n",
       "\n",
       "    .dataframe thead th {\n",
       "        text-align: right;\n",
       "    }\n",
       "</style>\n",
       "<table border=\"1\" class=\"dataframe\">\n",
       "  <thead>\n",
       "    <tr style=\"text-align: right;\">\n",
       "      <th></th>\n",
       "      <th>carat</th>\n",
       "      <th>cut</th>\n",
       "      <th>color</th>\n",
       "      <th>clarity</th>\n",
       "      <th>depth</th>\n",
       "      <th>table</th>\n",
       "      <th>price</th>\n",
       "      <th>x</th>\n",
       "      <th>y</th>\n",
       "      <th>z</th>\n",
       "    </tr>\n",
       "  </thead>\n",
       "  <tbody>\n",
       "    <tr>\n",
       "      <th>0</th>\n",
       "      <td>0.23</td>\n",
       "      <td>2</td>\n",
       "      <td>1</td>\n",
       "      <td>3</td>\n",
       "      <td>61.5</td>\n",
       "      <td>55.0</td>\n",
       "      <td>326</td>\n",
       "      <td>3.95</td>\n",
       "      <td>3.98</td>\n",
       "      <td>2.43</td>\n",
       "    </tr>\n",
       "    <tr>\n",
       "      <th>1</th>\n",
       "      <td>0.21</td>\n",
       "      <td>3</td>\n",
       "      <td>1</td>\n",
       "      <td>2</td>\n",
       "      <td>59.8</td>\n",
       "      <td>61.0</td>\n",
       "      <td>326</td>\n",
       "      <td>3.89</td>\n",
       "      <td>3.84</td>\n",
       "      <td>2.31</td>\n",
       "    </tr>\n",
       "    <tr>\n",
       "      <th>2</th>\n",
       "      <td>0.23</td>\n",
       "      <td>1</td>\n",
       "      <td>1</td>\n",
       "      <td>4</td>\n",
       "      <td>56.9</td>\n",
       "      <td>65.0</td>\n",
       "      <td>327</td>\n",
       "      <td>4.05</td>\n",
       "      <td>4.07</td>\n",
       "      <td>2.31</td>\n",
       "    </tr>\n",
       "    <tr>\n",
       "      <th>3</th>\n",
       "      <td>0.29</td>\n",
       "      <td>3</td>\n",
       "      <td>5</td>\n",
       "      <td>5</td>\n",
       "      <td>62.4</td>\n",
       "      <td>58.0</td>\n",
       "      <td>334</td>\n",
       "      <td>4.20</td>\n",
       "      <td>4.23</td>\n",
       "      <td>2.63</td>\n",
       "    </tr>\n",
       "    <tr>\n",
       "      <th>4</th>\n",
       "      <td>0.31</td>\n",
       "      <td>1</td>\n",
       "      <td>6</td>\n",
       "      <td>3</td>\n",
       "      <td>63.3</td>\n",
       "      <td>58.0</td>\n",
       "      <td>335</td>\n",
       "      <td>4.34</td>\n",
       "      <td>4.35</td>\n",
       "      <td>2.75</td>\n",
       "    </tr>\n",
       "  </tbody>\n",
       "</table>\n",
       "</div>"
      ],
      "text/plain": [
       "   carat  cut  color  clarity  depth  table  price     x     y     z\n",
       "0   0.23    2      1        3   61.5   55.0    326  3.95  3.98  2.43\n",
       "1   0.21    3      1        2   59.8   61.0    326  3.89  3.84  2.31\n",
       "2   0.23    1      1        4   56.9   65.0    327  4.05  4.07  2.31\n",
       "3   0.29    3      5        5   62.4   58.0    334  4.20  4.23  2.63\n",
       "4   0.31    1      6        3   63.3   58.0    335  4.34  4.35  2.75"
      ]
     },
     "execution_count": 8,
     "metadata": {},
     "output_type": "execute_result"
    }
   ],
   "source": [
    "categorical_columns = ['cut', 'color', 'clarity']\n",
    "\n",
    "label_encoder = LabelEncoder()\n",
    "for col in categorical_columns:\n",
    "    data[col] = label_encoder.fit_transform(data[col])\n",
    "data.head()"
   ]
  },
  {
   "cell_type": "markdown",
   "metadata": {},
   "source": [
    "Build pipeline"
   ]
  },
  {
   "cell_type": "code",
   "execution_count": 9,
   "metadata": {},
   "outputs": [],
   "source": [
    "X = data.drop([\"price\"], axis = 1)\n",
    "y = data[\"price\"]\n",
    "X_train, X_test, y_train, y_test = train_test_split(X, y,test_size = 0.25, random_state=7)"
   ]
  },
  {
   "cell_type": "code",
   "execution_count": 10,
   "metadata": {},
   "outputs": [],
   "source": [
    "pipeline_lr = Pipeline([(\"scalar1\",StandardScaler()),\n",
    "                     (\"lr_classifier\",LinearRegression())])\n",
    "\n",
    "pipeline_dt = Pipeline([(\"scalar2\",StandardScaler()),\n",
    "                     (\"dt_classifier\",DecisionTreeRegressor())])\n",
    "\n",
    "pipeline_rf = Pipeline([(\"scalar3\",StandardScaler()),\n",
    "                     (\"rf_classifier\",RandomForestRegressor())])\n",
    "\n",
    "\n",
    "pipeline_kn = Pipeline([(\"scalar4\",StandardScaler()),\n",
    "                     (\"rf_classifier\",KNeighborsRegressor())])\n",
    "\n",
    "\n",
    "pipeline_xgb = Pipeline([(\"scalar5\",StandardScaler()),\n",
    "                     (\"rf_classifier\",XGBRegressor())])\n",
    "\n",
    "pipelines = [pipeline_lr, pipeline_dt, pipeline_rf, pipeline_kn, pipeline_xgb]\n",
    "\n",
    "pipeline_dict = {0: \"LinearRegression\", 1: \"DecisionTree\", 2: \"RandomForest\",3: \"KNeighbors\", 4: \"XGBRegressor\"}\n",
    "\n",
    "for pipe in pipelines:\n",
    "    pipe.fit(X_train, y_train)"
   ]
  },
  {
   "cell_type": "markdown",
   "metadata": {},
   "source": [
    "Cross-validation scoring"
   ]
  },
  {
   "cell_type": "code",
   "execution_count": 22,
   "metadata": {},
   "outputs": [
    {
     "name": "stdout",
     "output_type": "stream",
     "text": [
      "LinearRegression: -1348.811824 \n",
      "DecisionTree: -751.188455 \n",
      "RandomForest: -547.427264 \n",
      "KNeighbors: -823.649220 \n",
      "XGBRegressor: -547.645088 \n"
     ]
    }
   ],
   "source": [
    "cv_results_rms = []\n",
    "for i, model in enumerate(pipelines):\n",
    "    cv_score = cross_val_score(model, X_train, y_train, scoring = \"neg_root_mean_squared_error\", cv=10)\n",
    "    cv_results_rms.append(cv_score)\n",
    "    print(\"%s: %f \" % (pipeline_dict[i], cv_score.mean()))"
   ]
  },
  {
   "cell_type": "markdown",
   "metadata": {},
   "source": [
    "XGBClassifier gives best scoring on negative root mean square error"
   ]
  },
  {
   "cell_type": "markdown",
   "metadata": {},
   "source": [
    "### Model evaluation"
   ]
  },
  {
   "cell_type": "code",
   "execution_count": 12,
   "metadata": {},
   "outputs": [],
   "source": [
    "pred = pipeline_xgb.predict(X_test)"
   ]
  },
  {
   "cell_type": "code",
   "execution_count": 17,
   "metadata": {},
   "outputs": [
    {
     "name": "stdout",
     "output_type": "stream",
     "text": [
      "MAE: 280.1733446465832\n",
      "MSE: 307728.16599314264\n",
      "RMSE: 554.7325175191577\n"
     ]
    }
   ],
   "source": [
    "mse = metrics.mean_squared_error(y_test, pred)\n",
    "mae = metrics.mean_absolute_error(y_test, pred)\n",
    "\n",
    "print(f\"MAE: {mae}\")\n",
    "print(f\"MSE: {mse}\")\n",
    "print(f\"RMSE: {np.sqrt(mse)}\")"
   ]
  },
  {
   "cell_type": "code",
   "execution_count": null,
   "metadata": {},
   "outputs": [],
   "source": []
  }
 ],
 "metadata": {
  "kernelspec": {
   "display_name": "diamond-price-prediction",
   "language": "python",
   "name": "python3"
  },
  "language_info": {
   "codemirror_mode": {
    "name": "ipython",
    "version": 3
   },
   "file_extension": ".py",
   "mimetype": "text/x-python",
   "name": "python",
   "nbconvert_exporter": "python",
   "pygments_lexer": "ipython3",
   "version": "3.12.4"
  }
 },
 "nbformat": 4,
 "nbformat_minor": 2
}
